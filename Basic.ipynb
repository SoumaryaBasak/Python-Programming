{
 "cells": [
  {
   "cell_type": "markdown",
   "metadata": {
    "id": "4GoAxr_qdbek"
   },
   "source": [
    "# Initialisation of variables"
   ]
  },
  {
   "cell_type": "code",
   "execution_count": null,
   "metadata": {
    "id": "2SKDHd9dre68"
   },
   "outputs": [],
   "source": [
    "age=20\n",
    "name=\"Soumarya\" ##initializing variables"
   ]
  },
  {
   "cell_type": "code",
   "execution_count": null,
   "metadata": {
    "colab": {
     "base_uri": "https://localhost:8080/"
    },
    "id": "9YCIw45tZItW",
    "outputId": "5dafec07-f2a6-476e-ec14-8535b10e6d34"
   },
   "outputs": [
    {
     "data": {
      "text/plain": [
       "20"
      ]
     },
     "execution_count": 4,
     "metadata": {
      "tags": []
     },
     "output_type": "execute_result"
    }
   ],
   "source": [
    "age"
   ]
  },
  {
   "cell_type": "code",
   "execution_count": null,
   "metadata": {
    "colab": {
     "base_uri": "https://localhost:8080/",
     "height": 35
    },
    "id": "634_shHDZQCS",
    "outputId": "c6aa9dc5-d3d4-4b9c-b4df-c20b4c28300e"
   },
   "outputs": [
    {
     "data": {
      "application/vnd.google.colaboratory.intrinsic+json": {
       "type": "string"
      },
      "text/plain": [
       "'Soumarya'"
      ]
     },
     "execution_count": 7,
     "metadata": {
      "tags": []
     },
     "output_type": "execute_result"
    }
   ],
   "source": [
    "name"
   ]
  },
  {
   "cell_type": "code",
   "execution_count": null,
   "metadata": {
    "id": "Ujoer8KlZRaE"
   },
   "outputs": [],
   "source": [
    "Bob, rala,kitu= 20,22,23"
   ]
  },
  {
   "cell_type": "code",
   "execution_count": null,
   "metadata": {
    "colab": {
     "base_uri": "https://localhost:8080/"
    },
    "id": "pYk_lXHZZmPZ",
    "outputId": "14b33fe1-0d40-44f7-9c41-fac53712f699"
   },
   "outputs": [
    {
     "data": {
      "text/plain": [
       "20"
      ]
     },
     "execution_count": 9,
     "metadata": {
      "tags": []
     },
     "output_type": "execute_result"
    }
   ],
   "source": [
    "Bob"
   ]
  },
  {
   "cell_type": "code",
   "execution_count": null,
   "metadata": {
    "colab": {
     "base_uri": "https://localhost:8080/"
    },
    "id": "TWg8BujgZnsM",
    "outputId": "26497b04-7131-403f-f3d8-d018dbdb6342"
   },
   "outputs": [
    {
     "data": {
      "text/plain": [
       "23"
      ]
     },
     "execution_count": 10,
     "metadata": {
      "tags": []
     },
     "output_type": "execute_result"
    }
   ],
   "source": [
    "kitu"
   ]
  },
  {
   "cell_type": "code",
   "execution_count": null,
   "metadata": {
    "colab": {
     "base_uri": "https://localhost:8080/"
    },
    "id": "K54SHoxHZrV1",
    "outputId": "43151ced-52fc-4880-f8e0-248e60b3e11d"
   },
   "outputs": [
    {
     "data": {
      "text/plain": [
       "22"
      ]
     },
     "execution_count": 11,
     "metadata": {
      "tags": []
     },
     "output_type": "execute_result"
    }
   ],
   "source": [
    "rala"
   ]
  },
  {
   "cell_type": "code",
   "execution_count": null,
   "metadata": {
    "id": "VvmqiBGSZt_7"
   },
   "outputs": [],
   "source": [
    "Bib=ralu=kaju=25"
   ]
  },
  {
   "cell_type": "code",
   "execution_count": null,
   "metadata": {
    "colab": {
     "base_uri": "https://localhost:8080/"
    },
    "id": "E9O6F1J5Z0Iw",
    "outputId": "52d4acf4-6a8c-4fd9-f413-d96057351a7a"
   },
   "outputs": [
    {
     "data": {
      "text/plain": [
       "25"
      ]
     },
     "execution_count": 14,
     "metadata": {
      "tags": []
     },
     "output_type": "execute_result"
    }
   ],
   "source": [
    "kaju"
   ]
  },
  {
   "cell_type": "markdown",
   "metadata": {
    "id": "mO-L3zieaNsj"
   },
   "source": [
    "Arithmetic operations:\n",
    "Here we will use all the arithmetic operations"
   ]
  },
  {
   "cell_type": "code",
   "execution_count": null,
   "metadata": {
    "id": "094EYnvsaS7K"
   },
   "outputs": [],
   "source": [
    "a= 18\n",
    "b=12"
   ]
  },
  {
   "cell_type": "code",
   "execution_count": null,
   "metadata": {
    "colab": {
     "base_uri": "https://localhost:8080/"
    },
    "id": "QidihBDEcd2_",
    "outputId": "fdefa75a-69a7-459c-f05d-7666a8776042"
   },
   "outputs": [
    {
     "data": {
      "text/plain": [
       "30"
      ]
     },
     "execution_count": 16,
     "metadata": {
      "tags": []
     },
     "output_type": "execute_result"
    }
   ],
   "source": [
    "a+b"
   ]
  },
  {
   "cell_type": "code",
   "execution_count": null,
   "metadata": {
    "colab": {
     "base_uri": "https://localhost:8080/"
    },
    "id": "_zi1HWFncfqz",
    "outputId": "b0d630f1-694b-42fa-b1d1-103424229b91"
   },
   "outputs": [
    {
     "data": {
      "text/plain": [
       "6"
      ]
     },
     "execution_count": 17,
     "metadata": {
      "tags": []
     },
     "output_type": "execute_result"
    }
   ],
   "source": [
    "a-b"
   ]
  },
  {
   "cell_type": "code",
   "execution_count": null,
   "metadata": {
    "colab": {
     "base_uri": "https://localhost:8080/"
    },
    "id": "267imPL2cj6u",
    "outputId": "6022d4fb-cfd7-4a02-f876-5d62a6618933"
   },
   "outputs": [
    {
     "data": {
      "text/plain": [
       "1.5"
      ]
     },
     "execution_count": 18,
     "metadata": {
      "tags": []
     },
     "output_type": "execute_result"
    }
   ],
   "source": [
    "a/b"
   ]
  },
  {
   "cell_type": "markdown",
   "metadata": {
    "id": "bhASzMWIc3Ma"
   },
   "source": [
    "Now if we want to know the remainder\n",
    "Then we should use the operation '%'\n",
    "Which means modulo"
   ]
  },
  {
   "cell_type": "code",
   "execution_count": null,
   "metadata": {
    "colab": {
     "base_uri": "https://localhost:8080/"
    },
    "id": "pm14XBPHcnaG",
    "outputId": "e6f764b6-7cf3-43d9-f40c-00648d6c230f"
   },
   "outputs": [
    {
     "data": {
      "text/plain": [
       "6"
      ]
     },
     "execution_count": 21,
     "metadata": {
      "tags": []
     },
     "output_type": "execute_result"
    }
   ],
   "source": [
    "a%b #i.e. the remainder after dividing 'a' by 'b'"
   ]
  },
  {
   "cell_type": "code",
   "execution_count": null,
   "metadata": {
    "colab": {
     "base_uri": "https://localhost:8080/"
    },
    "id": "KYcMFvxacsG-",
    "outputId": "fe8e9df9-590f-4835-aff1-40f16f4d8b58"
   },
   "outputs": [
    {
     "data": {
      "text/plain": [
       "12"
      ]
     },
     "execution_count": 22,
     "metadata": {
      "tags": []
     },
     "output_type": "execute_result"
    }
   ],
   "source": [
    "b%a #similarly it gives the remainder after dividing'b' by 'a'"
   ]
  },
  {
   "cell_type": "code",
   "execution_count": null,
   "metadata": {
    "colab": {
     "base_uri": "https://localhost:8080/"
    },
    "id": "uzZbryTxdmR3",
    "outputId": "8ce924ea-12ec-4ba8-d450-b057624cdf19"
   },
   "outputs": [
    {
     "data": {
      "text/plain": [
       "216"
      ]
     },
     "execution_count": 24,
     "metadata": {
      "tags": []
     },
     "output_type": "execute_result"
    }
   ],
   "source": [
    "a*b #simple multiplication"
   ]
  },
  {
   "cell_type": "markdown",
   "metadata": {
    "id": "zBOimjQkd5Al"
   },
   "source": [
    "To calculate the power of a variable we use '**'"
   ]
  },
  {
   "cell_type": "code",
   "execution_count": null,
   "metadata": {
    "colab": {
     "base_uri": "https://localhost:8080/"
    },
    "id": "qJ8Qo_rpdt9e",
    "outputId": "c7b06bca-e9f0-491c-9cb0-5f82c89772c1"
   },
   "outputs": [
    {
     "data": {
      "text/plain": [
       "144"
      ]
     },
     "execution_count": 28,
     "metadata": {
      "tags": []
     },
     "output_type": "execute_result"
    }
   ],
   "source": [
    "b**2"
   ]
  },
  {
   "cell_type": "markdown",
   "metadata": {
    "id": "csUDi9gleBdP"
   },
   "source": [
    "Operations on strings::\n",
    "(Cancedinate the strings)\n",
    "Sring only allows addition and multiplication, which we discuss follow. But the strings doesn't allows division , substraction or modulo etc."
   ]
  },
  {
   "cell_type": "code",
   "execution_count": null,
   "metadata": {
    "colab": {
     "base_uri": "https://localhost:8080/",
     "height": 35
    },
    "id": "lGIvTNmoeZlH",
    "outputId": "dd17a3d8-4f30-4d49-a91d-836163883898"
   },
   "outputs": [
    {
     "data": {
      "application/vnd.google.colaboratory.intrinsic+json": {
       "type": "string"
      },
      "text/plain": [
       "'SoumaryaBasak'"
      ]
     },
     "execution_count": 30,
     "metadata": {
      "tags": []
     },
     "output_type": "execute_result"
    }
   ],
   "source": [
    "sent1 = \"Soumarya\"\n",
    "sent2= \"Basak\"\n",
    " \n",
    "sent1+ sent2"
   ]
  },
  {
   "cell_type": "markdown",
   "metadata": {
    "id": "yr5cYiDJfYiG"
   },
   "source": [
    "Here is no space between two strings, and just added side by side.\n",
    "Now to have a space between the strings we would do the following"
   ]
  },
  {
   "cell_type": "code",
   "execution_count": null,
   "metadata": {
    "colab": {
     "base_uri": "https://localhost:8080/",
     "height": 35
    },
    "id": "VENNKCwufjzI",
    "outputId": "fea5f418-e919-435b-9332-3c5bee9def7b"
   },
   "outputs": [
    {
     "data": {
      "application/vnd.google.colaboratory.intrinsic+json": {
       "type": "string"
      },
      "text/plain": [
       "'Soumarya Basak'"
      ]
     },
     "execution_count": 31,
     "metadata": {
      "tags": []
     },
     "output_type": "execute_result"
    }
   ],
   "source": [
    "sent1+\" \"+sent2"
   ]
  },
  {
   "cell_type": "markdown",
   "metadata": {
    "id": "aasj1VwYwM7F"
   },
   "source": [
    "Multiplication of string"
   ]
  },
  {
   "cell_type": "code",
   "execution_count": null,
   "metadata": {
    "colab": {
     "base_uri": "https://localhost:8080/",
     "height": 35
    },
    "id": "JhSFxLM1wMR9",
    "outputId": "9266c697-40ea-49ca-9479-a6b1e6f32bc2"
   },
   "outputs": [
    {
     "data": {
      "application/vnd.google.colaboratory.intrinsic+json": {
       "type": "string"
      },
      "text/plain": [
       "'HiHiHiHiHi'"
      ]
     },
     "execution_count": 1,
     "metadata": {
      "tags": []
     },
     "output_type": "execute_result"
    }
   ],
   "source": [
    "\"Hi\" *5"
   ]
  },
  {
   "cell_type": "markdown",
   "metadata": {
    "id": "Dc3fiA1QwblU"
   },
   "source": [
    "i.e. Returning the string 5 times"
   ]
  },
  {
   "cell_type": "markdown",
   "metadata": {
    "id": "u6OMh3kwf0je"
   },
   "source": [
    "\n",
    "\n",
    "Indexing string:"
   ]
  },
  {
   "cell_type": "code",
   "execution_count": null,
   "metadata": {
    "id": "G90ZEhpUf43R"
   },
   "outputs": [],
   "source": [
    "sentence = \"Soumarya loves to draw\""
   ]
  },
  {
   "cell_type": "markdown",
   "metadata": {
    "id": "fPSazhvVgKTP"
   },
   "source": [
    "Now we want to know only the first word or the first letter of the sentence. We also want to know the specific letter of the sentence. And hence we use indexing.\n",
    "In python the index starts with 0."
   ]
  },
  {
   "cell_type": "markdown",
   "metadata": {
    "id": "27NBvOlkgsxG"
   },
   "source": [
    "To know the first Letter of the sentence"
   ]
  },
  {
   "cell_type": "code",
   "execution_count": null,
   "metadata": {
    "colab": {
     "base_uri": "https://localhost:8080/",
     "height": 35
    },
    "id": "MLmVNclfg0sc",
    "outputId": "2b8a9c98-fda9-4f15-8dbc-c90cc63baac6"
   },
   "outputs": [
    {
     "data": {
      "application/vnd.google.colaboratory.intrinsic+json": {
       "type": "string"
      },
      "text/plain": [
       "'S'"
      ]
     },
     "execution_count": 36,
     "metadata": {
      "tags": []
     },
     "output_type": "execute_result"
    }
   ],
   "source": [
    "sentence [0]"
   ]
  },
  {
   "cell_type": "markdown",
   "metadata": {
    "id": "JaarKaM-hJuJ"
   },
   "source": [
    "To know the 5 the letter"
   ]
  },
  {
   "cell_type": "code",
   "execution_count": null,
   "metadata": {
    "colab": {
     "base_uri": "https://localhost:8080/",
     "height": 35
    },
    "id": "bKSJ3w9bg3yP",
    "outputId": "5fb92f01-4e65-4953-dcb7-637e031142f3"
   },
   "outputs": [
    {
     "data": {
      "application/vnd.google.colaboratory.intrinsic+json": {
       "type": "string"
      },
      "text/plain": [
       "'a'"
      ]
     },
     "execution_count": 37,
     "metadata": {
      "tags": []
     },
     "output_type": "execute_result"
    }
   ],
   "source": [
    "sentence [4]"
   ]
  },
  {
   "cell_type": "markdown",
   "metadata": {
    "id": "jDwOaRk9hPsZ"
   },
   "source": [
    "We can also use negative index"
   ]
  },
  {
   "cell_type": "code",
   "execution_count": null,
   "metadata": {
    "colab": {
     "base_uri": "https://localhost:8080/",
     "height": 35
    },
    "id": "am9YFIGlr9Zj",
    "outputId": "32cd1aeb-7de4-48d5-83a5-6857b251271a"
   },
   "outputs": [
    {
     "data": {
      "application/vnd.google.colaboratory.intrinsic+json": {
       "type": "string"
      },
      "text/plain": [
       "'a'"
      ]
     },
     "execution_count": 40,
     "metadata": {
      "tags": []
     },
     "output_type": "execute_result"
    }
   ],
   "source": [
    "sentence [-2] #2nd letter from last"
   ]
  },
  {
   "cell_type": "code",
   "execution_count": null,
   "metadata": {
    "colab": {
     "base_uri": "https://localhost:8080/",
     "height": 35
    },
    "id": "0KztgUtSsNwO",
    "outputId": "f0409154-350c-4429-a99f-255395a6a0f4"
   },
   "outputs": [
    {
     "data": {
      "application/vnd.google.colaboratory.intrinsic+json": {
       "type": "string"
      },
      "text/plain": [
       "'w'"
      ]
     },
     "execution_count": 41,
     "metadata": {
      "tags": []
     },
     "output_type": "execute_result"
    }
   ],
   "source": [
    "sentence [-1]"
   ]
  },
  {
   "cell_type": "markdown",
   "metadata": {
    "id": "eMXQeWzOsY7h"
   },
   "source": [
    " To get the sentence except last 2 letters"
   ]
  },
  {
   "cell_type": "code",
   "execution_count": null,
   "metadata": {
    "colab": {
     "base_uri": "https://localhost:8080/",
     "height": 35
    },
    "id": "dpR28GousSmf",
    "outputId": "33df9a6a-c59f-4271-da91-36cb5e78a20a"
   },
   "outputs": [
    {
     "data": {
      "application/vnd.google.colaboratory.intrinsic+json": {
       "type": "string"
      },
      "text/plain": [
       "'Soumarya loves to dr'"
      ]
     },
     "execution_count": 42,
     "metadata": {
      "tags": []
     },
     "output_type": "execute_result"
    }
   ],
   "source": [
    "sentence [:-2]"
   ]
  },
  {
   "cell_type": "code",
   "execution_count": null,
   "metadata": {
    "id": "ETGb1VndsfRI"
   },
   "outputs": [],
   "source": [
    "Continuous indexing"
   ]
  },
  {
   "cell_type": "code",
   "execution_count": null,
   "metadata": {
    "colab": {
     "base_uri": "https://localhost:8080/",
     "height": 35
    },
    "id": "MsAEENgTshzv",
    "outputId": "07d16075-cd81-4cf3-d67d-bf2b56a67e72"
   },
   "outputs": [
    {
     "data": {
      "application/vnd.google.colaboratory.intrinsic+json": {
       "type": "string"
      },
      "text/plain": [
       "'Soum'"
      ]
     },
     "execution_count": 43,
     "metadata": {
      "tags": []
     },
     "output_type": "execute_result"
    }
   ],
   "source": [
    "sentence [0:4]"
   ]
  },
  {
   "cell_type": "markdown",
   "metadata": {
    "id": "rewmuKoJsn6J"
   },
   "source": [
    "Here the 2nd index is not the last index upto which we are taking. Here the 2nd position is the real index of the sentence, in this case 0 is starting index and 4 is the last index , it will show tha result from fist to upto 4 th letter of the"
   ]
  },
  {
   "cell_type": "code",
   "execution_count": null,
   "metadata": {
    "colab": {
     "base_uri": "https://localhost:8080/",
     "height": 35
    },
    "id": "5ZPK1-iXs85S",
    "outputId": "908ca50d-5609-4f2f-92d4-c56623edbc12"
   },
   "outputs": [
    {
     "data": {
      "application/vnd.google.colaboratory.intrinsic+json": {
       "type": "string"
      },
      "text/plain": [
       "'ou'"
      ]
     },
     "execution_count": 45,
     "metadata": {
      "tags": []
     },
     "output_type": "execute_result"
    }
   ],
   "source": [
    "sentence [1:3] #i.e from 2nd to 3rd letter of the sentence"
   ]
  },
  {
   "cell_type": "markdown",
   "metadata": {
    "id": "SscHuc_zzBUh"
   },
   "source": [
    " \n",
    " \n",
    "Place holder in string:"
   ]
  },
  {
   "cell_type": "markdown",
   "metadata": {
    "id": "pywd0qmfzFKJ"
   },
   "source": [
    "Example"
   ]
  },
  {
   "cell_type": "code",
   "execution_count": null,
   "metadata": {
    "colab": {
     "base_uri": "https://localhost:8080/",
     "height": 35
    },
    "id": "JQoSESSszIuJ",
    "outputId": "0492b729-0b10-4e5e-ccc8-ded7221a665e"
   },
   "outputs": [
    {
     "data": {
      "application/vnd.google.colaboratory.intrinsic+json": {
       "type": "string"
      },
      "text/plain": [
       "'modi is the imposter'"
      ]
     },
     "execution_count": 8,
     "metadata": {
      "tags": []
     },
     "output_type": "execute_result"
    }
   ],
   "source": [
    "name= \"modi\"\n",
    "name +\" is the imposter\""
   ]
  },
  {
   "cell_type": "code",
   "execution_count": null,
   "metadata": {
    "colab": {
     "base_uri": "https://localhost:8080/",
     "height": 35
    },
    "id": "-Av_kT8LzfrG",
    "outputId": "c9edc9b3-c500-47c3-984c-ba99e4a44074"
   },
   "outputs": [
    {
     "data": {
      "application/vnd.google.colaboratory.intrinsic+json": {
       "type": "string"
      },
      "text/plain": [
       "'modi is the imposter'"
      ]
     },
     "execution_count": 9,
     "metadata": {
      "tags": []
     },
     "output_type": "execute_result"
    }
   ],
   "source": [
    "sent= \" is the imposter\"\n",
    "name+ sent"
   ]
  },
  {
   "cell_type": "code",
   "execution_count": null,
   "metadata": {
    "colab": {
     "base_uri": "https://localhost:8080/",
     "height": 35
    },
    "id": "U1Kz-HbXzn-E",
    "outputId": "38429f9d-91c2-45aa-e061-1711ec64da39"
   },
   "outputs": [
    {
     "data": {
      "application/vnd.google.colaboratory.intrinsic+json": {
       "type": "string"
      },
      "text/plain": [
       "'modi is the imposter'"
      ]
     },
     "execution_count": 7,
     "metadata": {
      "tags": []
     },
     "output_type": "execute_result"
    }
   ],
   "source": [
    "sent=\"%s is the imposter\"\n",
    "sent%name"
   ]
  },
  {
   "cell_type": "markdown",
   "metadata": {
    "id": "EBSsGlcxz5ix"
   },
   "source": [
    "Here by using three different way we got exactly same result. But the first two techniques are hard coding, whereas the last one is more flexible. And this process is called 'place holder in string'\n",
    " \n",
    "Here we can use any string at the first position of 'sent' as the '%s' signifies the position of the string. To write the proper line we use \"sent%name\" i.e. \"(sentence variable)%(\"string variable\") where the '%' is the place holder symbol\n",
    " We may use  '%d' for integer also."
   ]
  },
  {
   "cell_type": "code",
   "execution_count": null,
   "metadata": {
    "colab": {
     "base_uri": "https://localhost:8080/",
     "height": 35
    },
    "id": "Hs3ldu0v1Z85",
    "outputId": "d85a002e-2a8a-48eb-b4e9-effaa7b35443"
   },
   "outputs": [
    {
     "data": {
      "application/vnd.google.colaboratory.intrinsic+json": {
       "type": "string"
      },
      "text/plain": [
       "'modi is the imposter no. 1'"
      ]
     },
     "execution_count": 6,
     "metadata": {
      "tags": []
     },
     "output_type": "execute_result"
    }
   ],
   "source": [
    "n=1\n",
    "name=\"modi\"\n",
    "sent=\"%s is the imposter no. %d\"\n",
    " \n",
    "sent%(name,n)8"
   ]
  },
  {
   "cell_type": "markdown",
   "metadata": {
    "id": "neQUlJWw1xKJ"
   },
   "source": [
    "We may also use multiple place holders"
   ]
  },
  {
   "cell_type": "code",
   "execution_count": null,
   "metadata": {
    "colab": {
     "base_uri": "https://localhost:8080/",
     "height": 52
    },
    "id": "U7x6SOpN12R1",
    "outputId": "487d092b-56e9-4b5e-9fd3-e90a71c32c49"
   },
   "outputs": [
    {
     "data": {
      "application/vnd.google.colaboratory.intrinsic+json": {
       "type": "string"
      },
      "text/plain": [
       "'Soumarya Basak is the president of India'"
      ]
     },
     "execution_count": 5,
     "metadata": {
      "tags": []
     },
     "output_type": "execute_result"
    }
   ],
   "source": [
    "sent= \"%s %s is the president of India\"\n",
    "sent%(\"Soumarya\" ,\"Basak\")"
   ]
  },
  {
   "cell_type": "markdown",
   "metadata": {
    "id": "oMKLDOjk2PT-"
   },
   "source": [
    "Dengerous example"
   ]
  },
  {
   "cell_type": "code",
   "execution_count": null,
   "metadata": {
    "id": "y8GljOlw2XWW"
   },
   "outputs": [],
   "source": [
    "truth=\"%s is the real imposter\""
   ]
  },
  {
   "cell_type": "code",
   "execution_count": null,
   "metadata": {
    "colab": {
     "base_uri": "https://localhost:8080/",
     "height": 35
    },
    "id": "9BPA66Gt3LAg",
    "outputId": "1dc54cfd-9664-4b87-a20c-ad5cdc5e6f07"
   },
   "outputs": [
    {
     "data": {
      "application/vnd.google.colaboratory.intrinsic+json": {
       "type": "string"
      },
      "text/plain": [
       "'modi is the real imposter'"
      ]
     },
     "execution_count": 4,
     "metadata": {
      "tags": []
     },
     "output_type": "execute_result"
    }
   ],
   "source": [
    "truth%(\"modi\")"
   ]
  },
  {
   "cell_type": "markdown",
   "metadata": {
    "id": "XIGNXXrpwwRU"
   },
   "source": [
    " \n",
    "Listing objects and creating array"
   ]
  },
  {
   "cell_type": "code",
   "execution_count": null,
   "metadata": {
    "colab": {
     "base_uri": "https://localhost:8080/"
    },
    "id": "RXuK_UyJw7Sv",
    "outputId": "cf45b767-b834-4eb0-969d-271ee47c8f81"
   },
   "outputs": [
    {
     "data": {
      "text/plain": [
       "['a', 'b', 'c', 'd']"
      ]
     },
     "execution_count": 1,
     "metadata": {
      "tags": []
     },
     "output_type": "execute_result"
    }
   ],
   "source": [
    "student= [\"a\" , \"b\" ,\"c\" ,\"d\"]\n",
    "student"
   ]
  },
  {
   "cell_type": "code",
   "execution_count": null,
   "metadata": {
    "colab": {
     "base_uri": "https://localhost:8080/",
     "height": 35
    },
    "id": "rWqL5Zey70T-",
    "outputId": "30f0f1c6-9bec-4ba0-e0d6-9b8d780610c8"
   },
   "outputs": [
    {
     "data": {
      "application/vnd.google.colaboratory.intrinsic+json": {
       "type": "string"
      },
      "text/plain": [
       "'a'"
      ]
     },
     "execution_count": 2,
     "metadata": {
      "tags": []
     },
     "output_type": "execute_result"
    }
   ],
   "source": [
    "student [0]"
   ]
  },
  {
   "cell_type": "code",
   "execution_count": null,
   "metadata": {
    "colab": {
     "base_uri": "https://localhost:8080/",
     "height": 35
    },
    "id": "B18uPFe08JZ7",
    "outputId": "99b24373-3024-467c-e29f-a10d3d09a287"
   },
   "outputs": [
    {
     "data": {
      "application/vnd.google.colaboratory.intrinsic+json": {
       "type": "string"
      },
      "text/plain": [
       "'c'"
      ]
     },
     "execution_count": 3,
     "metadata": {
      "tags": []
     },
     "output_type": "execute_result"
    }
   ],
   "source": [
    "student [-2] #index from last element"
   ]
  },
  {
   "cell_type": "code",
   "execution_count": null,
   "metadata": {
    "colab": {
     "base_uri": "https://localhost:8080/"
    },
    "id": "ydFahnQC8Qzu",
    "outputId": "d7990295-b28d-48b3-841d-63f60e02113d"
   },
   "outputs": [
    {
     "data": {
      "text/plain": [
       "['a', 'b']"
      ]
     },
     "execution_count": 4,
     "metadata": {
      "tags": []
     },
     "output_type": "execute_result"
    }
   ],
   "source": [
    "student [0:2]"
   ]
  },
  {
   "cell_type": "code",
   "execution_count": null,
   "metadata": {
    "id": "9qwCvMLb8Xjz"
   },
   "outputs": [],
   "source": [
    "del student [0]"
   ]
  },
  {
   "cell_type": "code",
   "execution_count": null,
   "metadata": {
    "colab": {
     "base_uri": "https://localhost:8080/"
    },
    "id": "m4I09G_E8jnA",
    "outputId": "5c6241ec-5e08-4f26-b580-04289f81e8ce"
   },
   "outputs": [
    {
     "data": {
      "text/plain": [
       "['b', 'c', 'd']"
      ]
     },
     "execution_count": 17,
     "metadata": {
      "tags": []
     },
     "output_type": "execute_result"
    }
   ],
   "source": [
    "student"
   ]
  },
  {
   "cell_type": "code",
   "execution_count": null,
   "metadata": {
    "id": "QIQgYosY9FIx"
   },
   "outputs": [],
   "source": [
    "del student [-1]"
   ]
  },
  {
   "cell_type": "code",
   "execution_count": null,
   "metadata": {
    "colab": {
     "base_uri": "https://localhost:8080/"
    },
    "id": "oJWKBQ399Lzk",
    "outputId": "14b7b38d-0a84-438e-f820-67b57d93d23b"
   },
   "outputs": [
    {
     "data": {
      "text/plain": [
       "['b', 'c']"
      ]
     },
     "execution_count": 19,
     "metadata": {
      "tags": []
     },
     "output_type": "execute_result"
    }
   ],
   "source": [
    "student"
   ]
  },
  {
   "cell_type": "code",
   "execution_count": null,
   "metadata": {
    "colab": {
     "base_uri": "https://localhost:8080/"
    },
    "id": "l7nO_cOPONmp",
    "outputId": "c27e48b0-5327-437e-ccf3-e8494e8099c7"
   },
   "outputs": [
    {
     "data": {
      "text/plain": [
       "4"
      ]
     },
     "execution_count": 4,
     "metadata": {
      "tags": []
     },
     "output_type": "execute_result"
    }
   ],
   "source": [
    "len(student) # length of the list"
   ]
  },
  {
   "cell_type": "code",
   "execution_count": null,
   "metadata": {
    "colab": {
     "base_uri": "https://localhost:8080/"
    },
    "id": "lUtZD7JHOlAB",
    "outputId": "5499542b-a5cf-4424-aea9-45c3f7646b88"
   },
   "outputs": [
    {
     "data": {
      "text/plain": [
       "['a', 'b', 'c', 'd', 'a', 'b', 'c', 'd']"
      ]
     },
     "execution_count": 5,
     "metadata": {
      "tags": []
     },
     "output_type": "execute_result"
    }
   ],
   "source": [
    "student *2"
   ]
  },
  {
   "cell_type": "code",
   "execution_count": null,
   "metadata": {
    "colab": {
     "base_uri": "https://localhost:8080/",
     "height": 232
    },
    "id": "h-BTIzLqO2dM",
    "outputId": "6bf08d4e-eeee-4242-df51-15abe4ab3953"
   },
   "outputs": [
    {
     "ename": "TypeError",
     "evalue": "ignored",
     "output_type": "error",
     "traceback": [
      "\u001b[0;31m---------------------------------------------------------------------------\u001b[0m",
      "\u001b[0;31mTypeError\u001b[0m                                 Traceback (most recent call last)",
      "\u001b[0;32m<ipython-input-7-9ebda1cc6667>\u001b[0m in \u001b[0;36m<module>\u001b[0;34m()\u001b[0m\n\u001b[0;32m----> 1\u001b[0;31m \u001b[0mstudent\u001b[0m\u001b[0;34m+\u001b[0m\u001b[0;34m\"e\"\u001b[0m\u001b[0;34m\u001b[0m\u001b[0;34m\u001b[0m\u001b[0m\n\u001b[0m",
      "\u001b[0;31mTypeError\u001b[0m: can only concatenate list (not \"str\") to list"
     ]
    }
   ],
   "source": [
    "student+\"e\""
   ]
  },
  {
   "cell_type": "markdown",
   "metadata": {
    "id": "Uqt2Z4ZzO6_o"
   },
   "source": [
    "So there is a error . i.e. we can't add element in list"
   ]
  },
  {
   "cell_type": "markdown",
   "metadata": {
    "id": "FuEY_NjoPIbV"
   },
   "source": [
    "Creating dictionary :::"
   ]
  },
  {
   "cell_type": "code",
   "execution_count": null,
   "metadata": {
    "id": "9MI2H1QYPLCz"
   },
   "outputs": [],
   "source": [
    "tup = (\"bob\", 12 , \"marsi\", 13 ,\"richal \", 14)"
   ]
  },
  {
   "cell_type": "code",
   "execution_count": null,
   "metadata": {
    "colab": {
     "base_uri": "https://localhost:8080/"
    },
    "id": "6p0zNursPt7f",
    "outputId": "332f6658-e922-45ab-c5ff-32790d232d41"
   },
   "outputs": [
    {
     "data": {
      "text/plain": [
       "12"
      ]
     },
     "execution_count": 12,
     "metadata": {
      "tags": []
     },
     "output_type": "execute_result"
    }
   ],
   "source": [
    "tup[1]"
   ]
  },
  {
   "cell_type": "markdown",
   "metadata": {
    "id": "VW4IuUKlP8Oz"
   },
   "source": [
    "But we can use another method and more power full method"
   ]
  },
  {
   "cell_type": "code",
   "execution_count": null,
   "metadata": {
    "colab": {
     "base_uri": "https://localhost:8080/"
    },
    "id": "5GaAZEBnP7n_",
    "outputId": "2cfeaa0b-3444-42a5-c4b6-46b635f3634e"
   },
   "outputs": [
    {
     "data": {
      "text/plain": [
       "12"
      ]
     },
     "execution_count": 2,
     "metadata": {
      "tags": []
     },
     "output_type": "execute_result"
    }
   ],
   "source": [
    "tuple={\"bob\":12,\"marsi\":13,\"charry\":15}\n",
    "tuple[\"bob\"]"
   ]
  },
  {
   "cell_type": "code",
   "execution_count": null,
   "metadata": {
    "colab": {
     "base_uri": "https://localhost:8080/"
    },
    "id": "_9HKBHITQR5A",
    "outputId": "43bbee6a-4ec5-49a0-bd9b-13076c65b343"
   },
   "outputs": [
    {
     "data": {
      "text/plain": [
       "13"
      ]
     },
     "execution_count": 15,
     "metadata": {
      "tags": []
     },
     "output_type": "execute_result"
    }
   ],
   "source": [
    "tuple [\"marsi\"]"
   ]
  },
  {
   "cell_type": "code",
   "execution_count": null,
   "metadata": {
    "id": "2mC8AeyzQgdM"
   },
   "outputs": [],
   "source": [
    "del tuple [\"bob\"]"
   ]
  },
  {
   "cell_type": "code",
   "execution_count": null,
   "metadata": {
    "colab": {
     "base_uri": "https://localhost:8080/"
    },
    "id": "u3jx-vLvRCTd",
    "outputId": "d32f3852-7633-4234-9e4f-039599a9e320"
   },
   "outputs": [
    {
     "data": {
      "text/plain": [
       "{'charry': 15, 'marsi': 13}"
      ]
     },
     "execution_count": 27,
     "metadata": {
      "tags": []
     },
     "output_type": "execute_result"
    }
   ],
   "source": [
    "tuple"
   ]
  },
  {
   "cell_type": "code",
   "execution_count": null,
   "metadata": {
    "colab": {
     "base_uri": "https://localhost:8080/"
    },
    "id": "kNxmz9DEOt6C",
    "outputId": "6e26e5de-aa3d-4ca8-cbd8-3d88af141495"
   },
   "outputs": [
    {
     "data": {
      "text/plain": [
       "3"
      ]
     },
     "execution_count": 4,
     "metadata": {
      "tags": []
     },
     "output_type": "execute_result"
    }
   ],
   "source": [
    "len(tuple)"
   ]
  },
  {
   "cell_type": "markdown",
   "metadata": {
    "id": "nTjbQUbJO8t9"
   },
   "source": [
    " Creating Tuple::"
   ]
  },
  {
   "cell_type": "code",
   "execution_count": null,
   "metadata": {
    "colab": {
     "base_uri": "https://localhost:8080/"
    },
    "id": "7zd8cQ5rO_fQ",
    "outputId": "8b9aa414-1bee-41ad-9f50-9f740d1b777a"
   },
   "outputs": [
    {
     "data": {
      "text/plain": [
       "('orange', 'apple', 'mango')"
      ]
     },
     "execution_count": 6,
     "metadata": {
      "tags": []
     },
     "output_type": "execute_result"
    }
   ],
   "source": [
    "Tu= (\"orange\" ,\"apple\" , \"mango\")\n",
    "Tu"
   ]
  },
  {
   "cell_type": "code",
   "execution_count": null,
   "metadata": {
    "colab": {
     "base_uri": "https://localhost:8080/",
     "height": 35
    },
    "id": "0XQuSywOPNTN",
    "outputId": "b79177d2-9b4b-4252-f52d-07c994abeea7"
   },
   "outputs": [
    {
     "data": {
      "application/vnd.google.colaboratory.intrinsic+json": {
       "type": "string"
      },
      "text/plain": [
       "'mango'"
      ]
     },
     "execution_count": 7,
     "metadata": {
      "tags": []
     },
     "output_type": "execute_result"
    }
   ],
   "source": [
    "Tu[2]"
   ]
  },
  {
   "cell_type": "code",
   "execution_count": null,
   "metadata": {
    "colab": {
     "base_uri": "https://localhost:8080/"
    },
    "id": "36Ub4AtiPRFj",
    "outputId": "d0738daf-12c0-4aab-a180-46cdd86a91a5"
   },
   "outputs": [
    {
     "data": {
      "text/plain": [
       "('orange', 'apple')"
      ]
     },
     "execution_count": 8,
     "metadata": {
      "tags": []
     },
     "output_type": "execute_result"
    }
   ],
   "source": [
    "Tu[0:2]"
   ]
  },
  {
   "cell_type": "code",
   "execution_count": null,
   "metadata": {
    "colab": {
     "base_uri": "https://localhost:8080/",
     "height": 232
    },
    "id": "6RLFGmi4Pb35",
    "outputId": "4a9c6d4e-3636-44f2-c801-4a4a454535bc"
   },
   "outputs": [
    {
     "ename": "TypeError",
     "evalue": "ignored",
     "output_type": "error",
     "traceback": [
      "\u001b[0;31m---------------------------------------------------------------------------\u001b[0m",
      "\u001b[0;31mTypeError\u001b[0m                                 Traceback (most recent call last)",
      "\u001b[0;32m<ipython-input-9-091e018b9570>\u001b[0m in \u001b[0;36m<module>\u001b[0;34m()\u001b[0m\n\u001b[0;32m----> 1\u001b[0;31m \u001b[0mTu\u001b[0m\u001b[0;34m+\u001b[0m\u001b[0;34m\"papaya\"\u001b[0m\u001b[0;34m\u001b[0m\u001b[0;34m\u001b[0m\u001b[0m\n\u001b[0m",
      "\u001b[0;31mTypeError\u001b[0m: can only concatenate tuple (not \"str\") to tuple"
     ]
    }
   ],
   "source": [
    "Tu+\"papaya\""
   ]
  },
  {
   "cell_type": "markdown",
   "metadata": {
    "id": "hIQKJrFmPfRa"
   },
   "source": [
    "So we can't add element in tuple,\n",
    "But we can add two tuples"
   ]
  },
  {
   "cell_type": "code",
   "execution_count": null,
   "metadata": {
    "colab": {
     "base_uri": "https://localhost:8080/"
    },
    "id": "VCpG-FGcPmRC",
    "outputId": "53b489cc-4bed-4f25-927e-7ac3fb052334"
   },
   "outputs": [
    {
     "data": {
      "text/plain": [
       "('orange', 'apple', 'mango', 'a', 'b')"
      ]
     },
     "execution_count": 11,
     "metadata": {
      "tags": []
     },
     "output_type": "execute_result"
    }
   ],
   "source": [
    "Tu1=(\"a\", \"b\")\n",
    "Tu+ Tu1"
   ]
  },
  {
   "cell_type": "code",
   "execution_count": null,
   "metadata": {
    "colab": {
     "base_uri": "https://localhost:8080/"
    },
    "id": "vgdZy8BkPuKv",
    "outputId": "ad4c63b9-cbb9-448a-b4ca-5a6f26bde801"
   },
   "outputs": [
    {
     "data": {
      "text/plain": [
       "('orange', 'apple', 'mango', 'orange', 'apple', 'mango')"
      ]
     },
     "execution_count": 12,
     "metadata": {
      "tags": []
     },
     "output_type": "execute_result"
    }
   ],
   "source": [
    "Tu*2"
   ]
  },
  {
   "cell_type": "code",
   "execution_count": null,
   "metadata": {
    "colab": {
     "base_uri": "https://localhost:8080/"
    },
    "id": "Dka8y8bXPwW_",
    "outputId": "82393449-ec41-4f30-db4d-222b393d5f72"
   },
   "outputs": [
    {
     "data": {
      "text/plain": [
       "3"
      ]
     },
     "execution_count": 13,
     "metadata": {
      "tags": []
     },
     "output_type": "execute_result"
    }
   ],
   "source": [
    "len(Tu)"
   ]
  },
  {
   "cell_type": "code",
   "execution_count": null,
   "metadata": {
    "colab": {
     "base_uri": "https://localhost:8080/"
    },
    "id": "-vDjYdy6P-Sh",
    "outputId": "789fa6e6-1c62-48e0-ad9b-f6d365fa64d4"
   },
   "outputs": [
    {
     "data": {
      "text/plain": [
       "(1, 3, 5, 6, 9, 99)"
      ]
     },
     "execution_count": 15,
     "metadata": {
      "tags": []
     },
     "output_type": "execute_result"
    }
   ],
   "source": [
    "Tup=(1,3,5,6,9,99)\n",
    "Tup"
   ]
  },
  {
   "cell_type": "markdown",
   "metadata": {
    "id": "0QmVfObNQM46"
   },
   "source": [
    "i.e. tuple can be of intergers"
   ]
  },
  {
   "cell_type": "code",
   "execution_count": null,
   "metadata": {
    "colab": {
     "base_uri": "https://localhost:8080/",
     "height": 232
    },
    "id": "x8c65vvCQRAH",
    "outputId": "2ee53173-a19f-42f4-ed56-32b51f6f76a8"
   },
   "outputs": [
    {
     "ename": "TypeError",
     "evalue": "ignored",
     "output_type": "error",
     "traceback": [
      "\u001b[0;31m---------------------------------------------------------------------------\u001b[0m",
      "\u001b[0;31mTypeError\u001b[0m                                 Traceback (most recent call last)",
      "\u001b[0;32m<ipython-input-16-81472beff857>\u001b[0m in \u001b[0;36m<module>\u001b[0;34m()\u001b[0m\n\u001b[0;32m----> 1\u001b[0;31m \u001b[0;32mdel\u001b[0m \u001b[0mTup\u001b[0m\u001b[0;34m[\u001b[0m\u001b[0;36m0\u001b[0m\u001b[0;34m]\u001b[0m\u001b[0;34m\u001b[0m\u001b[0;34m\u001b[0m\u001b[0m\n\u001b[0m",
      "\u001b[0;31mTypeError\u001b[0m: 'tuple' object doesn't support item deletion"
     ]
    }
   ],
   "source": [
    "del Tup[0]"
   ]
  },
  {
   "cell_type": "markdown",
   "metadata": {
    "id": "Pl6gVjBqQb-5"
   },
   "source": [
    "We can't delete a element in tuple"
   ]
  },
  {
   "cell_type": "markdown",
   "metadata": {
    "id": "Fz6VKYB-RGQd"
   },
   "source": [
    "So the bob argument is deleted"
   ]
  },
  {
   "cell_type": "markdown",
   "metadata": {
    "id": "LTtlHxM9RJwg"
   },
   "source": [
    "Logical statement:\n",
    "True/false"
   ]
  },
  {
   "cell_type": "code",
   "execution_count": null,
   "metadata": {
    "colab": {
     "base_uri": "https://localhost:8080/"
    },
    "id": "1OAk9I8GRO0D",
    "outputId": "282011f3-7bf1-4504-a700-22b1fd62895e"
   },
   "outputs": [
    {
     "data": {
      "text/plain": [
       "False"
      ]
     },
     "execution_count": 28,
     "metadata": {
      "tags": []
     },
     "output_type": "execute_result"
    }
   ],
   "source": [
    "5==3"
   ]
  },
  {
   "cell_type": "code",
   "execution_count": null,
   "metadata": {
    "colab": {
     "base_uri": "https://localhost:8080/"
    },
    "id": "gRlI7YxERV0T",
    "outputId": "4fd797c0-f79c-4168-d5f9-f7ea5319b3d3"
   },
   "outputs": [
    {
     "data": {
      "text/plain": [
       "True"
      ]
     },
     "execution_count": 29,
     "metadata": {
      "tags": []
     },
     "output_type": "execute_result"
    }
   ],
   "source": [
    "3<=5"
   ]
  },
  {
   "cell_type": "code",
   "execution_count": null,
   "metadata": {
    "colab": {
     "base_uri": "https://localhost:8080/"
    },
    "id": "qpiMM3cSRY8n",
    "outputId": "4942191c-1bfb-4970-838c-4ae9e08dcfdf"
   },
   "outputs": [
    {
     "data": {
      "text/plain": [
       "True"
      ]
     },
     "execution_count": 31,
     "metadata": {
      "tags": []
     },
     "output_type": "execute_result"
    }
   ],
   "source": [
    "3!=7"
   ]
  },
  {
   "cell_type": "code",
   "execution_count": null,
   "metadata": {
    "colab": {
     "base_uri": "https://localhost:8080/"
    },
    "id": "WU6YND_KRhW5",
    "outputId": "a178ba10-ee00-4fef-e2ac-d83cd12b27b1"
   },
   "outputs": [
    {
     "data": {
      "text/plain": [
       "True"
      ]
     },
     "execution_count": 32,
     "metadata": {
      "tags": []
     },
     "output_type": "execute_result"
    }
   ],
   "source": [
    "3>2"
   ]
  },
  {
   "cell_type": "markdown",
   "metadata": {
    "id": "LDlsNeCORkWt"
   },
   "source": [
    "So we have ,\n",
    "<, >, <=, >=, ==,!="
   ]
  },
  {
   "cell_type": "markdown",
   "metadata": {
    "id": "qNVgVc2hSAR2"
   },
   "source": [
    " Conditional statements:\n",
    "\n",
    "Using if ,else,elif"
   ]
  },
  {
   "cell_type": "code",
   "execution_count": null,
   "metadata": {
    "id": "9aNhxfNoSEfx"
   },
   "outputs": [],
   "source": [
    "if (5<3):print (\"fuck\")"
   ]
  },
  {
   "cell_type": "code",
   "execution_count": null,
   "metadata": {
    "colab": {
     "base_uri": "https://localhost:8080/"
    },
    "id": "A3Y2jwKdQyEi",
    "outputId": "9a8000fa-3874-4a7b-88c5-732269a5778d"
   },
   "outputs": [
    {
     "name": "stdout",
     "output_type": "stream",
     "text": [
      "wow\n"
     ]
    }
   ],
   "source": [
    "if (5<6): print (\"wow\")"
   ]
  },
  {
   "cell_type": "code",
   "execution_count": null,
   "metadata": {
    "colab": {
     "base_uri": "https://localhost:8080/"
    },
    "id": "dCGBzy2QRNxA",
    "outputId": "75aba8b0-66f1-4761-f108-f43fa86edbb4"
   },
   "outputs": [
    {
     "name": "stdout",
     "output_type": "stream",
     "text": [
      "thik\n"
     ]
    }
   ],
   "source": [
    "if(4<2): print (\"vul\")\n",
    "else: print (\"thik\")"
   ]
  },
  {
   "cell_type": "code",
   "execution_count": null,
   "metadata": {
    "colab": {
     "base_uri": "https://localhost:8080/"
    },
    "id": "1gb9VMgCRdub",
    "outputId": "f8624a27-1f07-4d23-aee7-e2204d47c0ed"
   },
   "outputs": [
    {
     "name": "stdout",
     "output_type": "stream",
     "text": [
      "20\n"
     ]
    }
   ],
   "source": [
    "if (3<1): print(sum([1,3]))\n",
    "elif (3!=4): print(sum([10,10]))\n",
    "else : print (\" check again\")"
   ]
  },
  {
   "cell_type": "markdown",
   "metadata": {
    "id": "ky0VwXbBSmU3"
   },
   "source": [
    "To add more tha  two conditions we use 'elif'"
   ]
  },
  {
   "cell_type": "markdown",
   "metadata": {
    "id": "5n-HLM6uwlb2"
   },
   "source": [
    "# For loops:"
   ]
  },
  {
   "cell_type": "code",
   "execution_count": null,
   "metadata": {
    "colab": {
     "base_uri": "https://localhost:8080/"
    },
    "id": "MFkWfr9xwvp_",
    "outputId": "d48659e2-1193-4fb8-e41b-737e0c9e36c9"
   },
   "outputs": [
    {
     "data": {
      "text/plain": [
       "('a', 'b', 'c')"
      ]
     },
     "execution_count": 2,
     "metadata": {
      "tags": []
     },
     "output_type": "execute_result"
    }
   ],
   "source": [
    "list1=(\"a\",\"b\",\"c\")\n",
    "list1"
   ]
  },
  {
   "cell_type": "code",
   "execution_count": null,
   "metadata": {
    "colab": {
     "base_uri": "https://localhost:8080/"
    },
    "id": "JkWvBTd7xAlt",
    "outputId": "635934df-fb2c-4e7e-a96a-cb8da5756658"
   },
   "outputs": [
    {
     "data": {
      "text/plain": [
       "(1, 14.2, 66.7, 88)"
      ]
     },
     "execution_count": 3,
     "metadata": {
      "tags": []
     },
     "output_type": "execute_result"
    }
   ],
   "source": [
    "tup1=(1,14.2,66.7,88)\n",
    "tup1"
   ]
  },
  {
   "cell_type": "code",
   "execution_count": null,
   "metadata": {
    "colab": {
     "base_uri": "https://localhost:8080/"
    },
    "id": "452JLcJ9xVnr",
    "outputId": "f0d38865-df94-48f8-f083-177a652f7ee6"
   },
   "outputs": [
    {
     "name": "stdout",
     "output_type": "stream",
     "text": [
      "a\n",
      "b\n",
      "c\n"
     ]
    }
   ],
   "source": [
    "for items in list1: print (items)"
   ]
  },
  {
   "cell_type": "code",
   "execution_count": null,
   "metadata": {
    "colab": {
     "base_uri": "https://localhost:8080/"
    },
    "id": "ux694H-Bx9w6",
    "outputId": "43a2b1f4-71f1-4996-9cac-7e8cfde3d4ba"
   },
   "outputs": [
    {
     "name": "stdout",
     "output_type": "stream",
     "text": [
      "1\n",
      "14.2\n",
      "66.7\n",
      "88\n"
     ]
    }
   ],
   "source": [
    "for no in tup1: print(no)"
   ]
  },
  {
   "cell_type": "code",
   "execution_count": null,
   "metadata": {
    "colab": {
     "base_uri": "https://localhost:8080/"
    },
    "id": "3H8sod6eyEmL",
    "outputId": "e43cb38e-4ecd-44cc-e95f-13e28814b5b1"
   },
   "outputs": [
    {
     "name": "stdout",
     "output_type": "stream",
     "text": [
      "0\n",
      "1\n",
      "2\n",
      "3\n",
      "4\n",
      "5\n",
      "6\n",
      "7\n",
      "8\n",
      "9\n"
     ]
    }
   ],
   "source": [
    "for i in range(0,10): print(i)"
   ]
  },
  {
   "cell_type": "markdown",
   "metadata": {
    "id": "lc4wKVGnyQEg"
   },
   "source": [
    "Here 'range' is a function of python.it takes the starting index and the 2ndargument is the no. Of index after the starting index"
   ]
  },
  {
   "cell_type": "code",
   "execution_count": null,
   "metadata": {
    "colab": {
     "base_uri": "https://localhost:8080/"
    },
    "id": "auYhT5e4yduq",
    "outputId": "6f32ba4c-8eb4-4ef6-e63e-6889d93483df"
   },
   "outputs": [
    {
     "name": "stdout",
     "output_type": "stream",
     "text": [
      "1\n",
      "2\n",
      "3\n",
      "4\n",
      "5\n",
      "6\n",
      "7\n",
      "8\n",
      "9\n",
      "10\n"
     ]
    }
   ],
   "source": [
    "for i in range (1,11):print(i)"
   ]
  },
  {
   "cell_type": "markdown",
   "metadata": {
    "id": "MeP4bHa5zbvD"
   },
   "source": [
    "The ' range' function also has a additional feature of skipping"
   ]
  },
  {
   "cell_type": "code",
   "execution_count": null,
   "metadata": {
    "colab": {
     "base_uri": "https://localhost:8080/"
    },
    "id": "NYW7yrxnzmaz",
    "outputId": "8d402c46-95d3-441a-c580-89651b9b301d"
   },
   "outputs": [
    {
     "name": "stdout",
     "output_type": "stream",
     "text": [
      "0\n",
      "2\n",
      "4\n",
      "6\n",
      "8\n",
      "10\n"
     ]
    }
   ],
   "source": [
    "for i in range(0,11,2): print(i)"
   ]
  },
  {
   "cell_type": "markdown",
   "metadata": {
    "id": "M6QgcNKgzzA-"
   },
   "source": [
    "Here by using range(0,11,2) the i started from index 0 and then added 2 in the index ... And so we get th even no.s here.\n",
    "\n",
    " \n",
    "Now to get the first 10 multiple of 5 is,"
   ]
  },
  {
   "cell_type": "code",
   "execution_count": null,
   "metadata": {
    "colab": {
     "base_uri": "https://localhost:8080/"
    },
    "id": "KnXqxyox0HUH",
    "outputId": "79fa33d8-a3b7-45f3-fdfd-a2e2d808313c"
   },
   "outputs": [
    {
     "name": "stdout",
     "output_type": "stream",
     "text": [
      "0\n",
      "5\n",
      "10\n",
      "15\n",
      "20\n",
      "25\n",
      "30\n",
      "35\n",
      "40\n",
      "45\n",
      "50\n"
     ]
    }
   ],
   "source": [
    "for i in range (0,51,5):print(i)"
   ]
  },
  {
   "cell_type": "markdown",
   "metadata": {
    "id": "lj9mtxAl0O-q"
   },
   "source": [
    "Here the skip point is 5 points"
   ]
  },
  {
   "cell_type": "markdown",
   "metadata": {
    "id": "SeRII3tk0Yx6"
   },
   "source": [
    "Nested for loops"
   ]
  },
  {
   "cell_type": "code",
   "execution_count": null,
   "metadata": {
    "colab": {
     "base_uri": "https://localhost:8080/",
     "height": 164
    },
    "id": "NLyeQbNN0a_q",
    "outputId": "d72a4a41-56dc-4874-b144-91ee3eda8b0a"
   },
   "outputs": [
    {
     "ename": "SyntaxError",
     "evalue": "ignored",
     "output_type": "error",
     "traceback": [
      "\u001b[0;36m  File \u001b[0;32m\"<ipython-input-22-1252a8e23dba>\"\u001b[0;36m, line \u001b[0;32m1\u001b[0m\n\u001b[0;31m    for i in range(0,5): for j in range(11,16):\u001b[0m\n\u001b[0m                           ^\u001b[0m\n\u001b[0;31mSyntaxError\u001b[0m\u001b[0;31m:\u001b[0m invalid syntax\n"
     ]
    }
   ],
   "source": [
    "for i in range(0,5): for j in range(11,16): \n",
    "print (i*j)"
   ]
  },
  {
   "cell_type": "markdown",
   "metadata": {
    "id": "OxhugH4IhV_s"
   },
   "source": [
    "# While loop"
   ]
  },
  {
   "cell_type": "code",
   "execution_count": null,
   "metadata": {
    "colab": {
     "base_uri": "https://localhost:8080/"
    },
    "id": "GNwIGgYUhZLq",
    "outputId": "00a853a2-ec8b-420b-8588-eeef2f401a7d",
    "scrolled": true
   },
   "outputs": [
    {
     "name": "stdout",
     "output_type": "stream",
     "text": [
      "1\n",
      "2\n",
      "3\n",
      "4\n",
      "5\n"
     ]
    }
   ],
   "source": [
    "c=0\n",
    "while c<5:\n",
    "    c=c+1\n",
    "    print (c)"
   ]
  },
  {
   "cell_type": "markdown",
   "metadata": {},
   "source": [
    "### Note:\n",
    " There are three conditions for a correct loop:\n",
    " 1. Initialization\n",
    " 2. Conditions\n",
    " 3. Increment"
   ]
  },
  {
   "cell_type": "markdown",
   "metadata": {
    "id": "A_0zB2f437Es"
   },
   "source": [
    "# Creating a function in python :\n",
    " \n",
    "We can creat any function by using \"def\" which means defination"
   ]
  },
  {
   "cell_type": "code",
   "execution_count": null,
   "metadata": {
    "colab": {
     "base_uri": "https://localhost:8080/"
    },
    "id": "Uxli6LYW4B_i",
    "outputId": "83341280-099b-402d-fffd-72f03106a903"
   },
   "outputs": [
    {
     "name": "stdout",
     "output_type": "stream",
     "text": [
      "25\n"
     ]
    }
   ],
   "source": [
    "def sum(x,y) :\n",
    "  print(x+y)\n",
    " \n",
    "sum(10,15)"
   ]
  },
  {
   "cell_type": "code",
   "execution_count": null,
   "metadata": {
    "colab": {
     "base_uri": "https://localhost:8080/"
    },
    "id": "PQNJeYSq4V0x",
    "outputId": "3d0c350f-e698-436a-e4a1-d62e2441b509"
   },
   "outputs": [
    {
     "name": "stdout",
     "output_type": "stream",
     "text": [
      "5\n"
     ]
    }
   ],
   "source": [
    "def mul(x,y):\n",
    " print (x*y)\n",
    " \n",
    "mul(1,5)"
   ]
  },
  {
   "cell_type": "markdown",
   "metadata": {
    "id": "8e3NZEm44wks"
   },
   "source": [
    "Instead of \"Print\" we can use \"return\" also"
   ]
  },
  {
   "cell_type": "code",
   "execution_count": null,
   "metadata": {
    "colab": {
     "base_uri": "https://localhost:8080/"
    },
    "id": "Hwaw3w1X43DN",
    "outputId": "89a1af6c-c95f-43f6-cf2d-e57655101b7d"
   },
   "outputs": [
    {
     "data": {
      "text/plain": [
       "(10, 2)"
      ]
     },
     "execution_count": 6,
     "metadata": {},
     "output_type": "execute_result"
    }
   ],
   "source": [
    "def sub(a,b):\n",
    "  return(a,b)\n",
    " \n",
    "sub(10,2)"
   ]
  },
  {
   "cell_type": "code",
   "execution_count": null,
   "metadata": {
    "colab": {
     "base_uri": "https://localhost:8080/"
    },
    "id": "Y8_tFOO45Cz4",
    "outputId": "3be7d7f9-1d76-4c6a-e80c-e1a907c6e506"
   },
   "outputs": [
    {
     "data": {
      "text/plain": [
       "3"
      ]
     },
     "execution_count": 8,
     "metadata": {},
     "output_type": "execute_result"
    }
   ],
   "source": [
    "## modified version \n",
    "def subs(a,b):\n",
    "   return(max(a,b)-min(a,b))\n",
    " \n",
    "subs(7,10)"
   ]
  },
  {
   "cell_type": "markdown",
   "metadata": {
    "id": "Vjxmornu5oFk"
   },
   "source": [
    "# Creating function for mean"
   ]
  },
  {
   "cell_type": "code",
   "execution_count": 5,
   "metadata": {
    "colab": {
     "base_uri": "https://localhost:8080/"
    },
    "id": "Yc3qrIey6Elp",
    "outputId": "d0b27109-cfac-4d01-eb89-240300b3471b"
   },
   "outputs": [
    {
     "data": {
      "text/plain": [
       "5"
      ]
     },
     "execution_count": 5,
     "metadata": {},
     "output_type": "execute_result"
    }
   ],
   "source": [
    "x=[1,2,3,4,5]\n",
    "len(x)"
   ]
  },
  {
   "cell_type": "markdown",
   "metadata": {},
   "source": [
    "## Creating funtion for mean"
   ]
  },
  {
   "cell_type": "code",
   "execution_count": 6,
   "metadata": {},
   "outputs": [],
   "source": [
    "def xbar(x):\n",
    "    i=0\n",
    "    sum=0\n",
    "    while(i< len(x)):\n",
    "        sum=sum+x[i]\n",
    "        i=i+1\n",
    "    return(sum/len(x))\n"
   ]
  },
  {
   "cell_type": "code",
   "execution_count": 27,
   "metadata": {},
   "outputs": [
    {
     "data": {
      "text/plain": [
       "3.0"
      ]
     },
     "execution_count": 27,
     "metadata": {},
     "output_type": "execute_result"
    }
   ],
   "source": [
    "x_bar=xbar(x)\n",
    "x_bar"
   ]
  },
  {
   "cell_type": "code",
   "execution_count": 43,
   "metadata": {},
   "outputs": [
    {
     "data": {
      "text/plain": [
       "[-1, 0, 1, 2, 3]"
      ]
     },
     "execution_count": 43,
     "metadata": {},
     "output_type": "execute_result"
    }
   ],
   "source": [
    "x1=[x-2 for x in x]  #decreasing the elements in x\n",
    "x1"
   ]
  },
  {
   "cell_type": "code",
   "execution_count": 49,
   "metadata": {
    "scrolled": false
   },
   "outputs": [
    {
     "data": {
      "text/plain": [
       "6.0"
      ]
     },
     "execution_count": 49,
     "metadata": {},
     "output_type": "execute_result"
    }
   ],
   "source": [
    "import math\n",
    "math.sqrt(36)"
   ]
  },
  {
   "cell_type": "code",
   "execution_count": 67,
   "metadata": {},
   "outputs": [
    {
     "data": {
      "text/plain": [
       "[1, 4, 9, 16, 25]"
      ]
     },
     "execution_count": 67,
     "metadata": {},
     "output_type": "execute_result"
    }
   ],
   "source": [
    "[i**2 for i in x ]  #square elements in a list"
   ]
  },
  {
   "cell_type": "markdown",
   "metadata": {},
   "source": [
    "## Creating function for Sd"
   ]
  },
  {
   "cell_type": "code",
   "execution_count": 69,
   "metadata": {},
   "outputs": [],
   "source": [
    "def x_sd(x):\n",
    "    def m(y):\n",
    "        i=0\n",
    "        s=0\n",
    "        while(i<len(y)):\n",
    "            s=s+y[i]\n",
    "            i=i+1\n",
    "        return(s/len(y))\n",
    "   \n",
    "    x_bar= m(x)\n",
    "    x_di=[a-x_bar for a in x]\n",
    "    v= m([i**2 for i in x_di])\n",
    "    import math\n",
    "    sd=math.sqrt(v)\n",
    "    print(\"The sd is\",sd)\n",
    "    "
   ]
  },
  {
   "cell_type": "code",
   "execution_count": 70,
   "metadata": {
    "scrolled": true
   },
   "outputs": [
    {
     "name": "stdout",
     "output_type": "stream",
     "text": [
      "The sd is 1.4142135623730951\n"
     ]
    }
   ],
   "source": [
    "x_sd(x)"
   ]
  },
  {
   "cell_type": "code",
   "execution_count": 81,
   "metadata": {},
   "outputs": [
    {
     "name": "stdout",
     "output_type": "stream",
     "text": [
      "[-1  0  3  8 15]\n"
     ]
    }
   ],
   "source": [
    "import numpy as np\n",
    "x2=np.multiply(x,x1)\n",
    "print(x2)"
   ]
  },
  {
   "cell_type": "markdown",
   "metadata": {},
   "source": [
    "## Creating function for correlation"
   ]
  },
  {
   "cell_type": "code",
   "execution_count": 94,
   "metadata": {},
   "outputs": [],
   "source": [
    "def correlation(x,y):\n",
    "    def m(z):\n",
    "        i=0\n",
    "        s=0\n",
    "        while(i<len(z)):\n",
    "            s=s+z[i]\n",
    "            i=i+1\n",
    "        return(s/len(z))\n",
    "    \n",
    "    x_bar=m(x)\n",
    "    y_bar=m(y)\n",
    "    x_di=[i-x_bar for i in x]\n",
    "    y_di=[i-y_bar for i in y]\n",
    "    import math\n",
    "    s_x= math.sqrt(m([i**2 for i in x_di]))\n",
    "    s_y= math.sqrt(m([i**2 for i in y_di]))\n",
    "    cov= m([x_di[i]*y_di[i] for i in range(len(x))])  #multipling two lists \n",
    "    r=cov/(s_x*s_y)\n",
    "    print(\"The correlation coefficient is\",r)\n",
    "    "
   ]
  },
  {
   "cell_type": "code",
   "execution_count": 95,
   "metadata": {},
   "outputs": [
    {
     "name": "stdout",
     "output_type": "stream",
     "text": [
      "The correlation coefficient is -0.9999999999999998\n"
     ]
    }
   ],
   "source": [
    "x=[1,2,3,4,5]\n",
    "y=[5,4,3,2,1]\n",
    "\n",
    "correlation(x,y)"
   ]
  }
 ],
 "metadata": {
  "colab": {
   "name": "Basic.ipynb",
   "provenance": []
  },
  "kernelspec": {
   "display_name": "Python 3",
   "language": "python",
   "name": "python3"
  },
  "language_info": {
   "codemirror_mode": {
    "name": "ipython",
    "version": 3
   },
   "file_extension": ".py",
   "mimetype": "text/x-python",
   "name": "python",
   "nbconvert_exporter": "python",
   "pygments_lexer": "ipython3",
   "version": "3.8.8"
  }
 },
 "nbformat": 4,
 "nbformat_minor": 1
}
